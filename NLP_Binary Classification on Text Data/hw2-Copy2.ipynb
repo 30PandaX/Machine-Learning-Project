{
 "cells": [
  {
   "cell_type": "markdown",
   "metadata": {
    "scrolled": true
   },
   "source": [
    "# AML Homework 2\n",
    "## 1. Binary Classification on Text Data.\n",
    "### a. Down load the data."
   ]
  },
  {
   "cell_type": "code",
   "execution_count": 2,
   "metadata": {
    "scrolled": true
   },
   "outputs": [
    {
     "name": "stdout",
     "output_type": "stream",
     "text": [
      "7613\n",
      "3263\n",
      "3271\n",
      "0.4296597924602653\n",
      "0.5703402075397347\n"
     ]
    }
   ],
   "source": [
    "import numpy as np\n",
    "import pandas as pd\n",
    "from sklearn.feature_extraction.text import CountVectorizer\n",
    "\n",
    "train1 = pd.read_csv('train.csv')\n",
    "test = pd.read_csv('test.csv')\n",
    "\n",
    "\n",
    "#calculate the number of features in \"text\" column for both train and text datasets\n",
    "training_data_points = len(train1[\"text\"])\n",
    "test_data_points = len(test[\"text\"])\n",
    "print(training_data_points)#7613\n",
    "print(test_data_points) #3623\n",
    "\n",
    "target_col = train1[\"target\"]\n",
    "disaster = 0\n",
    "\n",
    "for i in range(0,7613):\n",
    "    if target_col[i] == 1:\n",
    "        disaster +=1\n",
    "\n",
    "print(disaster) #3271\n",
    "\n",
    "disaster_per = disaster/len(train1['target'])\n",
    "non_disas_per = 1 - disaster_per\n",
    "print(disaster_per) #0.4296597924602653\n",
    "print(non_disas_per) #0.5703402075397347"
   ]
  },
  {
   "cell_type": "markdown",
   "metadata": {},
   "source": [
    "### b. Split the training data"
   ]
  },
  {
   "cell_type": "code",
   "execution_count": 3,
   "metadata": {
    "scrolled": true
   },
   "outputs": [
    {
     "data": {
      "text/plain": [
       "\"\\ntrain2 = train1.sample(frac = 0.7)\\ndev = train1.drop(train.index)\\ntrain2.to_csv('train2.csv', index=False)\\ndev.to_csv('dev.csv', index = False)\\n\\n\\n\""
      ]
     },
     "execution_count": 3,
     "metadata": {},
     "output_type": "execute_result"
    }
   ],
   "source": [
    "#1-B\n",
    "\n",
    "\n",
    "'''\n",
    "train2 = train1.sample(frac = 0.7)\n",
    "dev = train1.drop(train.index)\n",
    "train2.to_csv('train2.csv', index=False)\n",
    "dev.to_csv('dev.csv', index = False)\n",
    "\n",
    "\n",
    "'''\n",
    "\n",
    "\n",
    "#After we randonly choose 70% data points of training dataset to form train2 and 30%data points to form\n",
    "# dev, We save train2 and dev into train2.csv and dev.csv.\n",
    "#Since we want to keep the two randomly generated datasets fixed, we comment off the code for #1-B， and utilize fixed\n",
    "#datasets train2.csv and dev.csv for the following questions\n",
    "\n",
    "\n",
    "\n"
   ]
  },
  {
   "cell_type": "markdown",
   "metadata": {},
   "source": [
    "### c. Preprocess the Data"
   ]
  },
  {
   "cell_type": "code",
   "execution_count": 4,
   "metadata": {
    "scrolled": true
   },
   "outputs": [],
   "source": [
    "#1-C\n",
    "import pandas as pd\n",
    "import re\n",
    "\n",
    "train2 = pd.read_csv('train2.csv')\n",
    "dev = pd.read_csv('dev.csv')\n",
    "test = pd.read_csv('test.csv')\n",
    "\n",
    "#remove all the urls, since they cannot be put into the bag of words and cannot be processed as text\n",
    "for i in range(0, len(train2[\"text\"])):\n",
    "    train2.at[i, 'text'] = re.sub(r\"http\\S+\", \"\", train2[\"text\"][i])\n",
    "\n",
    "for i in range(0, len(dev[\"text\"])):\n",
    "    dev.at[i, 'text'] = re.sub(r\"http\\S+\", \"\", dev[\"text\"][i])\n",
    "\n",
    "for i in range(0, len(test[\"text\"])):\n",
    "    test.at[i, 'text'] = re.sub(r\"http\\S+\", \"\", test[\"text\"][i])\n",
    "\n",
    "#convert all the words to lowercase : we do this since lower case will help us to generate bag\n",
    "# of words with words in a uniform way, which is convenient for us to compute later\n",
    "train2[\"text\"] = train2[\"text\"].str.lower()\n",
    "dev[\"text\"] = dev[\"text\"].str.lower()\n",
    "test[\"text\"] = test[\"text\"].str.lower()\n"
   ]
  },
  {
   "cell_type": "code",
   "execution_count": 5,
   "metadata": {},
   "outputs": [],
   "source": [
    "#remove puncatuation, since they cannot be processed as text and cannot be put into the bag of words\n",
    "for i in range(0, len(dev[\"text\"])):\n",
    "    dev.at[i, 'text'] = re.sub('[^a-zA-Z]', \" \", dev[\"text\"][i] )\n",
    "\n",
    "for i in range(0, len(train2[\"text\"])):\n",
    "    train2.at[i , 'text'] = re.sub('[^a-zA-Z]', \" \", train2[\"text\"][i] )\n",
    "\n",
    "for i in range(0, len(test[\"text\"])):\n",
    "    test.at[i, 'text'] = re.sub('[^a-zA-Z]', \" \", test[\"text\"][i] )\n",
    "\n",
    "#remove stopwords, since they appear too frequently to count as unique words which should be put into the bag of words\n",
    "import nltk\n",
    "from nltk.corpus import stopwords\n",
    "stop = stopwords.words('english')\n",
    "train2['text'] = train2['text'].apply(lambda x: ' '.join([word for word in x.split() if word not in (stop)]))\n",
    "dev['text'] = dev['text'].apply(lambda x: ' '.join([word for word in x.split() if word not in (stop)]))\n",
    "test['text'] = test['text'].apply(lambda x: ' '.join([word for word in x.split() if word not in (stop)]))\n"
   ]
  },
  {
   "cell_type": "code",
   "execution_count": 6,
   "metadata": {
    "scrolled": true
   },
   "outputs": [
    {
     "name": "stderr",
     "output_type": "stream",
     "text": [
      "[nltk_data] Downloading package punkt to /Users/panda/nltk_data...\n",
      "[nltk_data]   Package punkt is already up-to-date!\n",
      "[nltk_data] Downloading package averaged_perceptron_tagger to\n",
      "[nltk_data]     /Users/panda/nltk_data...\n",
      "[nltk_data]   Package averaged_perceptron_tagger is already up-to-\n",
      "[nltk_data]       date!\n",
      "[nltk_data] Downloading package wordnet to /Users/panda/nltk_data...\n",
      "[nltk_data]   Package wordnet is already up-to-date!\n"
     ]
    }
   ],
   "source": [
    "#lemmatize, to lemmatize accurately, we must specify the pos_tag of each word so that we will not confuse.\n",
    "# The reason for lemmatizing is that we want to remove inflectional endings only and to return the base or\n",
    "#dictionary form of the word\n",
    "import nltk\n",
    "from nltk.stem import WordNetLemmatizer\n",
    "from nltk.corpus import wordnet\n",
    "nltk.download('punkt')\n",
    "nltk.download('averaged_perceptron_tagger')\n",
    "nltk.download('wordnet')\n",
    "lemmatizer = WordNetLemmatizer()\n",
    "\n",
    "\n",
    "def get_wordnet_pos(word):\n",
    "    \"\"\"Map POS tag to first character lemmatize() accepts\"\"\"\n",
    "    tag = nltk.pos_tag([word])[0][1][0].upper()\n",
    "    tag_dict = {\"J\": wordnet.ADJ,\n",
    "                \"N\": wordnet.NOUN,\n",
    "                \"V\": wordnet.VERB,\n",
    "                \"R\": wordnet.ADV}\n",
    "\n",
    "    return tag_dict.get(tag, wordnet.NOUN)\n",
    "\n",
    "for i in range(0, len(train2['text'])):\n",
    "    sentence = train2['text'][i]\n",
    "    word_list = nltk.word_tokenize(sentence)\n",
    "    lemmatized_output = ' '.join([lemmatizer.lemmatize(w, get_wordnet_pos(w)) for w in word_list])\n",
    "    train2.at[i, 'text'] = lemmatized_output\n",
    "\n",
    "for i in range(0, len(dev['text'])):\n",
    "    sentence = dev['text'][i]\n",
    "    word_list = nltk.word_tokenize(sentence)\n",
    "    lemmatized_output = ' '.join([lemmatizer.lemmatize(w, get_wordnet_pos(w)) for w in word_list])\n",
    "    dev.at[i,'text'] = lemmatized_output\n",
    "\n",
    "for i in range(0, len(test['text'])):\n",
    "    sentence = test['text'][i]\n",
    "    word_list = nltk.word_tokenize(sentence)\n",
    "    lemmatized_output = ' '.join([lemmatizer.lemmatize(w, get_wordnet_pos(w)) for w in word_list])\n",
    "    test.at[i, 'text'] = lemmatized_output\n"
   ]
  },
  {
   "cell_type": "markdown",
   "metadata": {},
   "source": [
    "### d. Bag of Words model"
   ]
  },
  {
   "cell_type": "code",
   "execution_count": 7,
   "metadata": {},
   "outputs": [
    {
     "name": "stdout",
     "output_type": "stream",
     "text": [
      "(5329, 11149)\n",
      "(2284, 6576)\n"
     ]
    }
   ],
   "source": [
    "#1-D\n",
    "\n",
    "from sklearn.feature_extraction.text import CountVectorizer\n",
    "\n",
    "# min_df helps us to remove the words that appear too infrequently\n",
    "\n",
    "M = 1\n",
    "count_vect = CountVectorizer(binary=True,min_df = M)\n",
    "tweet_list_train = train2['text'].tolist()\n",
    "tweet_list_dev = dev['text'].tolist()\n",
    "\n",
    "#form dictionary for train2.csv and related vectors\n",
    "train_bag = count_vect.fit_transform(tweet_list_train)\n",
    "train_vocab = count_vect.vocabulary_  \n",
    "\n",
    "#form dictionary for dev.csb and related vectors\n",
    "dev_bag = count_vect.fit_transform(tweet_list_dev)\n",
    "dev_vocab = count_vect.vocabulary_\n",
    "\n",
    "train_vec = train_bag.toarray()\n",
    "\n",
    "dev_vec = dev_bag.toarray()\n",
    "\n",
    "train_features = train_vec.shape\n",
    "dev_features = dev_vec.shape\n",
    "\n",
    "print(train_features)#(5329, 11149)\n",
    "print(dev_features)#(2284, 6564)\n",
    "\n",
    "\n",
    "\n"
   ]
  },
  {
   "cell_type": "markdown",
   "metadata": {},
   "source": [
    "### e. Implement a naive Bayes classifier"
   ]
  },
  {
   "cell_type": "code",
   "execution_count": 81,
   "metadata": {},
   "outputs": [],
   "source": [
    "#1-E\n",
    "\n",
    "def nb_predictions(x_predict, X_train, y_train):\n",
    "\n",
    "    n = X_train.shape[0] # size of the dataset\n",
    "    d = X_train.shape[1] # number of features in our dataset\n",
    "    K = 2 # number of clases - Bernouli\n",
    "\n",
    "    # these are the shapes of the parameters\n",
    "    psis = np.zeros([K,d])\n",
    "    phis = np.zeros([K])\n",
    "    # we now compute the parameters\n",
    "\n",
    "    for k in range(K):\n",
    "        X_k = X_train[y_train == k] # data is sorted based on target k=0,1,2\n",
    "        psis[k] = np.mean(X_k, axis=0)\n",
    "        phis[k] = X_k.shape[0] / float(n)\n",
    "\n",
    "    \"\"\"This returns class assignments and scores under the NB model.\n",
    "\n",
    "    We compute \\arg\\max_y p(y|x) as \\arg\\max_y p(x|y)p(y)\n",
    "    \"\"\"\n",
    "    # adjust shapes\n",
    "    n, d = x_predict.shape\n",
    "    x_predict = np.reshape(x_predict, (1, n, d))\n",
    "    psis = np.reshape(psis, (K, 1, d))\n",
    "\n",
    "    # clip probabilities to avoid log(0)\n",
    "    psis = psis.clip(1e-14, 1-1e-14)\n",
    "\n",
    "    # compute log-probabilities\n",
    "    logpy = np.log(phis).reshape([K,1])\n",
    "    logpxy = x_predict * np.log(psis) + (1-x_predict) * np.log(1-psis)\n",
    "    logpyx = logpxy.sum(axis=2) + logpy\n",
    "    return logpyx.argmax(axis=0).flatten(), logpyx.reshape([K,n])"
   ]
  },
  {
   "cell_type": "code",
   "execution_count": 10,
   "metadata": {},
   "outputs": [
    {
     "name": "stdout",
     "output_type": "stream",
     "text": [
      "0.8829194120628485\n"
     ]
    }
   ],
   "source": [
    "# testing the NB model\n",
    "\n",
    "#adjust the length of bag-of-words dev vector according to the length of train_vec\n",
    "M = 1\n",
    "count_vect = CountVectorizer(binary=True,min_df = M, vocabulary=train_vocab)\n",
    "dev_bag = count_vect.fit_transform(tweet_list_dev)\n",
    "dev_vocab = count_vect.vocabulary_\n",
    "dev_vec = dev_bag.toarray()\n",
    "\n",
    "\n",
    "pred, logpyx = nb_predictions(dev_vec, train_vec, train2['target'])\n",
    "\n",
    "# f1 score:\n",
    "\n",
    "from sklearn.metrics import f1_score\n",
    "\n",
    "y_true = dev['target']\n",
    "y_pred = pred\n",
    "f1_score = f1_score(y_true, y_pred)\n",
    "print(f1_score) "
   ]
  },
  {
   "cell_type": "markdown",
   "metadata": {},
   "source": [
    "### f. Logistic regression prediction"
   ]
  },
  {
   "cell_type": "code",
   "execution_count": 11,
   "metadata": {},
   "outputs": [
    {
     "name": "stdout",
     "output_type": "stream",
     "text": [
      "The F1 score is:  0.8942408376963351\n",
      "weight vector of the train model is: [-0.03932014 -0.05604755  0.0811659  ... -0.14919338  0.25908994\n",
      " -0.08815393]\n"
     ]
    }
   ],
   "source": [
    "## 1-F\n",
    "\n",
    "from sklearn.linear_model import LogisticRegression\n",
    "from sklearn.metrics import f1_score\n",
    "\n",
    "#create logistic regression object\n",
    "logreg = LogisticRegression()\n",
    "logreg.fit(train_vec, train2['target'])\n",
    "dev_pred = logreg.predict(dev_vec)\n",
    "\n",
    "#F1 Score\n",
    "y_true = dev['target']\n",
    "y_pred = dev_pred\n",
    "f1_score = f1_score(y_true, y_pred)\n",
    "print('The F1 score is: ',f1_score) #0.8942408376963351\n",
    "\n",
    "print(\"weight vector of the train model is:\",logreg.coef_[0])\n",
    "\n",
    "\n",
    "#The weight wi represents how important that the input feature is to the classification problem.\n",
    "#If wi is negative, it means that the feature Xi is not associated with the class. Thus, we need to \n",
    "#find out the positive weight, locate its index and report the word in our vocabulary given \n",
    "#to the index\n",
    "\n",
    "num = len(logreg.coef_[0])\n",
    "star_words_index = []\n",
    "for i in range(0, num):\n",
    "    if logreg.coef_[0][i] > 0:\n",
    "        star_words_index.append(i)\n",
    "        \n",
    "star_words = [] #contains all the important words to decide a disaster tweet\n",
    "    \n",
    "for word, idx in train_vocab.items():\n",
    "    if idx in star_words_index:\n",
    "        star_words.append(word)\n",
    "# print(star_words)"
   ]
  },
  {
   "cell_type": "markdown",
   "metadata": {},
   "source": [
    "### g. Linear SVM prediction. "
   ]
  },
  {
   "cell_type": "code",
   "execution_count": 12,
   "metadata": {},
   "outputs": [
    {
     "name": "stdout",
     "output_type": "stream",
     "text": [
      "[0.7959527824620573, 0.8933263268523384, 0.9109518935516888, 0.9113149847094801, 0.9047376464595007]\n",
      "The biggest F1 score happens at C equals to 10\n"
     ]
    }
   ],
   "source": [
    "# 1-G\n",
    "# Linear SVM prediction\n",
    "\n",
    "from sklearn.svm import LinearSVC\n",
    "from sklearn.metrics import f1_score\n",
    "\n",
    "f1_list = []\n",
    "ci_list = [0.01, 0.1, 1, 10, 100]\n",
    "\n",
    "for ci in ci_list:\n",
    "    lsvc = LinearSVC(C = ci, max_iter = 100000)\n",
    "    lsvc.fit(train_vec, train2['target'])\n",
    "    pred_dev = lsvc.predict(dev_vec)\n",
    "    y_true = dev['target']\n",
    "    f1_list.append(f1_score(y_true, pred_dev))\n",
    "    \n",
    "print(f1_list)\n",
    "\n",
    "for i in range(len(f1_list)):\n",
    "    if(f1_list[i] == max(f1_list)):\n",
    "        print(\"The biggest F1 score happens at C equals to\", ci_list[i])\n",
    "  \n",
    " \n",
    "      \n",
    "#Thus，we can tell that when C = 1, its related F1 Score is highest,\n",
    "# and therefore brings the best classification performance\n",
    "# Also, since the best F-1 score in this question is 0.9129989764585466, which is larger than the F1 score \n",
    "# 0.8971668415529905 generated by above. Therefore, this best linear SVM classifier is better than the logistic\n",
    "# regression classifier above. (Note: the statistics might change as we re-run the code everytime, which does not\n",
    "# influence our conclusions)\n",
    "\n"
   ]
  },
  {
   "cell_type": "code",
   "execution_count": 13,
   "metadata": {},
   "outputs": [
    {
     "data": {
      "image/png": "[encoded data removed]",
      "text/plain": [
       "<Figure size 432x288 with 1 Axes>"
      ]
     },
     "metadata": {
      "needs_background": "light"
     },
     "output_type": "display_data"
    },
    {
     "name": "stdout",
     "output_type": "stream",
     "text": [
      "Max C is  0.9116896375701888 where C is around 6.216326530612245\n"
     ]
    }
   ],
   "source": [
    "\n",
    "# #Now， Let's draw the plot\n",
    "import matplotlib.pyplot as plt\n",
    "import numpy as np\n",
    "\n",
    "f1_list = []\n",
    "x_axis = np.linspace(0.1,100,50)\n",
    "\n",
    "for ci in x_axis:\n",
    "    lsvc = LinearSVC(C = ci, max_iter = 100000)\n",
    "    lsvc.fit(train_vec, train2['target'])\n",
    "    pred_dev = lsvc.predict(dev_vec)\n",
    "    y_true = dev['target']\n",
    "    f1_list.append(f1_score(y_true, pred_dev))\n",
    "\n",
    "\n",
    "plt.title('different C and its corresponding F1 score')\n",
    "plt.xlabel('C values')\n",
    "plt.ylabel('F1 Score')\n",
    "plt.plot(x_axis, f1_list, color = 'blue')\n",
    "plt.show()\n",
    "print('Max C is ', max(f1_list), 'where C is around', x_axis[f1_list.index(max(f1_list))])\n",
    "\n"
   ]
  },
  {
   "cell_type": "markdown",
   "metadata": {},
   "source": [
    "<!-- <left><img width=43% src=\"img/g_c_f1.png\"></left> -->\n",
    "\n",
    "- Max F1 is  0.9116896375701888 where C is around 6.216326530612245"
   ]
  },
  {
   "cell_type": "code",
   "execution_count": 30,
   "metadata": {},
   "outputs": [
    {
     "name": "stdout",
     "output_type": "stream",
     "text": [
      "The weight vector for linear SVM classifier is:  [ 0.          0.          0.13289827 ... -0.10159303  0.19709372\n",
      "  0.        ]\n",
      "No, they are not the same\n"
     ]
    }
   ],
   "source": [
    "#now re-compute the LinearSVC to find out the most important words\n",
    "from sklearn.svm import LinearSVC\n",
    "from sklearn.metrics import f1_score\n",
    "\n",
    "best_lsvc = LinearSVC(C = 1)\n",
    "best_lsvc.fit(train_vec, train2['target'])\n",
    "best_pred_dev = best_lsvc.predict(dev_vec)\n",
    "\n",
    "print(\"The weight vector for linear SVM classifier is: \", best_lsvc.coef_[0])\n",
    "#similarly, whereever the weight is positive, we need to extract its corresponding index\n",
    "num = len(best_lsvc.coef_[0])\n",
    "important_ind = []\n",
    "\n",
    "for i in range(0, num):\n",
    "    if best_lsvc.coef_[0][i] > 0:\n",
    "        important_ind.append(i)\n",
    "        \n",
    "important_words = []\n",
    "\n",
    "for word, idx in train_vocab.items():\n",
    "    if idx in important_ind:\n",
    "        important_words.append(word)\n",
    "        \n",
    "# print(important_words)\n",
    "\n",
    "#compare the two lists of important words we get from logistic regression and Linear SVC\n",
    "if (star_words == important_words):\n",
    "    print(\"Yes, they are the same\")\n",
    "else:\n",
    "    print(\"No, they are not the same\")"
   ]
  },
  {
   "cell_type": "markdown",
   "metadata": {},
   "source": [
    "- The weight vector for linear SVM classifier is:  [ 0.          0.          0.13289827 ... -0.10159303  0.19709372\n",
    "  0.        ]\n",
    "- No, they are not the same"
   ]
  },
  {
   "cell_type": "markdown",
   "metadata": {},
   "source": [
    "### h. Non-linear SVM\n"
   ]
  },
  {
   "cell_type": "code",
   "execution_count": null,
   "metadata": {},
   "outputs": [],
   "source": [
    "from sklearn import svm\n",
    "from sklearn.metrics import f1_score\n",
    "\n",
    "C_list = [0.01, 0.1, 1.0, 10.0, 100.0]\n",
    "\n",
    "# non_lsvc = svm.SVC()\n",
    "non_lsvc = svm.SVC(kernel='rbf', gamma=10)\n",
    "non_lsvc.fit(train_vec, train2['target'])\n",
    "# non_lsvc.fit(train_vec, train2['target'])\n",
    "pred_dev = non_lsvc.predict(dev_vec)\n",
    "\n",
    "#F1 Score\n",
    "y_true = dev['target']\n",
    "f1_score_nl = f1_score(y_true, pred_dev)\n",
    "print('The F1 score is: ',f1_score_nl)\n",
    "\n",
    "\n",
    "f1_list = []\n",
    "for ci in C_list:\n",
    "    non_lsvc = svm.SVC(kernel='rbf', gamma=ci)\n",
    "    non_lsvc.fit(train_vec, train2['target'])\n",
    "#     non_lsvc.fit(train_vec, train2['target'])\n",
    "    pred_dev = non_lsvc.predict(dev_vec)\n",
    "    f1_score_nl = f1_score(y_true, pred_dev)\n",
    "    f1_list.append(f1_score_nl)\n",
    "print(f1_list)"
   ]
  },
  {
   "cell_type": "code",
   "execution_count": null,
   "metadata": {},
   "outputs": [],
   "source": [
    "#Now， Let's draw the plot\n",
    "import matplotlib.pyplot as plt\n",
    "import numpy as np\n",
    "\n",
    "f1_list = []\n",
    "x_axis = np.linspace(0.01,50,30)\n",
    "\n",
    "for ci in x_axis:\n",
    "    non_lsvc = svm.SVC(kernel='rbf', gamma=ci, verbose = True)\n",
    "    non_lsvc.fit(train_vec, train2['target'])\n",
    "    pred_dev = non_lsvc.predict(dev_vec)\n",
    "    y_true = dev['target']\n",
    "    f1_list.append(f1_score(y_true, pred_dev))\n",
    "\n",
    "\n",
    "plt.title('different C and its corresponding F1 score')\n",
    "plt.xlabel('C values')\n",
    "plt.ylabel('F1 Score')\n",
    "plt.plot(x_axis, f1_list, color = 'blue')\n",
    "plt.show()"
   ]
  },
  {
   "cell_type": "markdown",
   "metadata": {},
   "source": [
    "<left><img width=43% src=\"img/h_c_f1.png\"></left>"
   ]
  },
  {
   "cell_type": "code",
   "execution_count": null,
   "metadata": {},
   "outputs": [],
   "source": [
    "print('Max C is ', max(f1_list), 'where C is around', x_axis[f1_list.index(max(f1_list))])"
   ]
  },
  {
   "cell_type": "markdown",
   "metadata": {},
   "source": [
    "- Max C is  0.8811563169164881 where C is around 0.1"
   ]
  },
  {
   "cell_type": "markdown",
   "metadata": {},
   "source": [
    "### i. N-Gram model"
   ]
  },
  {
   "cell_type": "code",
   "execution_count": 8,
   "metadata": {},
   "outputs": [],
   "source": [
    "#1-i (N-Gram)\n",
    "from sklearn.feature_extraction.text import CountVectorizer\n",
    "\n",
    "M = 1\n",
    "count_vect_1 = CountVectorizer(ngram_range=(1,2), binary=True, min_df = M)\n",
    "\n",
    "tweet_list_train= train2['text'].tolist()\n",
    "tweet_list_dev = dev['text'].tolist()\n",
    "train_bag = count_vect_1.fit_transform(tweet_list_train)\n",
    "train_vocab = count_vect_1.vocabulary_  \n",
    "\n",
    "count_vect2 = CountVectorizer(ngram_range=(1,2), binary=True, min_df = M)\n",
    "dev_bag2 = count_vect2.fit_transform(tweet_list_dev)\n",
    "dev_vocab = count_vect2.vocabulary_\n",
    "\n",
    "train_vec = train_bag.toarray()\n",
    "dev_vec = dev_bag.toarray()\n",
    "\n",
    "train_features = train_vec.shape\n",
    "dev_features = dev_vec.shape\n",
    "\n",
    "#print(train_features) #(5329, 44220)\n",
    "#print(dev_features)    #(2284, 22027)\n",
    "#print(len(train_vocab)) #44220"
   ]
  },
  {
   "cell_type": "code",
   "execution_count": 9,
   "metadata": {},
   "outputs": [
    {
     "name": "stdout",
     "output_type": "stream",
     "text": [
      "The total number of 2gram in train vocabulary is:  33071\n",
      "The total number of 1gram in train vocabulary is:  11149\n",
      "correct number!\n"
     ]
    }
   ],
   "source": [
    "total_2gram_train = 0\n",
    "total_1gram_train = 0\n",
    "\n",
    "for word, idx in train_vocab.items():\n",
    "    if ' ' in word:\n",
    "        total_2gram_train +=1\n",
    "    else:\n",
    "        total_1gram_train +=1\n",
    "print(\"The total number of 2gram in train vocabulary is: \", total_2gram_train)\n",
    "print(\"The total number of 1gram in train vocabulary is: \", total_1gram_train)\n",
    "\n",
    "if( len(train_vocab) == total_2gram_train+total_1gram_train ):\n",
    "    print(\"correct number!\")"
   ]
  },
  {
   "cell_type": "markdown",
   "metadata": {},
   "source": [
    "<b>i_1. repeat(e): Naive Bayes"
   ]
  },
  {
   "cell_type": "code",
   "execution_count": 90,
   "metadata": {},
   "outputs": [
    {
     "name": "stdout",
     "output_type": "stream",
     "text": [
      "0.8876346844535659\n"
     ]
    }
   ],
   "source": [
    "# testing the NB model\n",
    "\n",
    "#adjust the length of dev vector according to the length of train_vec\n",
    "count_vect = CountVectorizer(binary=True,min_df = M, vocabulary=train_vocab)\n",
    "dev_bag = count_vect.fit_transform(tweet_list_dev)\n",
    "dev_vocab = count_vect.vocabulary_\n",
    "dev_vec = dev_bag.toarray()\n",
    "\n",
    "\n",
    "pred, logpyx = nb_predictions(dev_vec, train_vec, train2['target'])\n",
    "\n",
    "# f1 score:\n",
    "\n",
    "from sklearn.metrics import f1_score\n",
    "\n",
    "y_true = dev['target']\n",
    "y_pred = pred\n",
    "f1_score = f1_score(y_true, y_pred)\n",
    "print(f1_score) "
   ]
  },
  {
   "cell_type": "markdown",
   "metadata": {},
   "source": [
    "- f1_score is 0.8876346844535659"
   ]
  },
  {
   "cell_type": "markdown",
   "metadata": {},
   "source": [
    "<b>i_2. repeat(f): logistic regression"
   ]
  },
  {
   "cell_type": "code",
   "execution_count": 91,
   "metadata": {},
   "outputs": [
    {
     "name": "stdout",
     "output_type": "stream",
     "text": [
      "The F1 score is:  0.8569874932028276\n",
      "weight vector of the train model is: [-0.04876664 -0.04876664 -0.05398438 ...  0.1462892  -0.04595182\n",
      " -0.04595182]\n"
     ]
    }
   ],
   "source": [
    "from sklearn.linear_model import LogisticRegression\n",
    "from sklearn.metrics import f1_score\n",
    "\n",
    "#create logistic regression object\n",
    "logreg = LogisticRegression()\n",
    "logreg.fit(train_vec, train2['target'])\n",
    "dev_pred = logreg.predict(dev_vec)\n",
    "\n",
    "#F1 Score\n",
    "y_true = dev['target']\n",
    "y_pred = dev_pred\n",
    "f1_score = f1_score(y_true, y_pred)\n",
    "print('The F1 score is: ',f1_score) \n",
    "\n",
    "print(\"weight vector of the train model is:\",logreg.coef_[0])\n",
    "\n",
    "\n",
    "#The weight wi represents how important that the input feature is to the classification problem.\n",
    "#If wi is negative, it means that the feature Xi is not associated with the class. Thus, we need to \n",
    "#find out the positive weight, locate its index and report the word in our vocabulary given \n",
    "#to the index\n",
    "\n",
    "num = len(logreg.coef_[0])\n",
    "star_words_index = []\n",
    "for i in range(0, num):\n",
    "    if logreg.coef_[0][i] > 0:\n",
    "        star_words_index.append(i)\n",
    "        \n",
    "star_words = [] #contains all the important words to decide a disaster tweet\n",
    "    \n",
    "for word, idx in train_vocab.items():\n",
    "    if idx in star_words_index:\n",
    "        star_words.append(word)\n",
    "# print(star_words)"
   ]
  },
  {
   "cell_type": "markdown",
   "metadata": {},
   "source": [
    "- The F1 score is:  0.8569874932028276\n",
    "- weight vector of the train model is: [-0.04876664 -0.04876664 -0.05398438 ...  0.1462892  -0.04595182\n",
    " -0.04595182]"
   ]
  },
  {
   "cell_type": "markdown",
   "metadata": {},
   "source": [
    "<b>i_3. repeat(g): Linear SVM"
   ]
  },
  {
   "cell_type": "code",
   "execution_count": 92,
   "metadata": {},
   "outputs": [
    {
     "name": "stdout",
     "output_type": "stream",
     "text": [
      "[0.7771295215869312, 0.8683926645091695, 0.8881856540084389, 0.8776371308016877, 0.8728232189973615]\n",
      "The biggest F1 score happens at C equals to 1\n"
     ]
    }
   ],
   "source": [
    "from sklearn.svm import LinearSVC\n",
    "from sklearn.metrics import f1_score\n",
    "\n",
    "f1_list = []\n",
    "ci_list = [0.01, 0.1, 1, 10, 100]\n",
    "\n",
    "for ci in ci_list:\n",
    "    lsvc = LinearSVC(C = ci, max_iter = 100000)\n",
    "    lsvc.fit(train_vec, train2['target'])\n",
    "    pred_dev = lsvc.predict(dev_vec)\n",
    "    y_true = dev['target']\n",
    "    f1_list.append(f1_score(y_true, pred_dev))\n",
    "    \n",
    "print(f1_list)\n",
    "\n",
    "for i in range(len(f1_list)):\n",
    "    if(f1_list[i] == max(f1_list)):\n",
    "        print(\"The biggest F1 score happens at C equals to\", ci_list[i])\n",
    "  "
   ]
  },
  {
   "cell_type": "markdown",
   "metadata": {},
   "source": [
    "- [0.7771295215869312, 0.8683926645091695, 0.8881856540084389, 0.8776371308016877, 0.8728232189973615]\n",
    "- The biggest F1 score happens at C equals to 1"
   ]
  },
  {
   "cell_type": "code",
   "execution_count": 93,
   "metadata": {},
   "outputs": [
    {
     "data": {
      "image/png": "[encoded data removed]",
      "text/plain": [
       "<Figure size 432x288 with 1 Axes>"
      ]
     },
     "metadata": {
      "needs_background": "light"
     },
     "output_type": "display_data"
    },
    {
     "name": "stdout",
     "output_type": "stream",
     "text": [
      "Max C is  0.8871308016877637 where C is around 2.138775510204082\n"
     ]
    }
   ],
   "source": [
    "#Now， Let's draw the plot\n",
    "import matplotlib.pyplot as plt\n",
    "import numpy as np\n",
    "\n",
    "f1_list = []\n",
    "x_axis = np.linspace(0.1,100,50)\n",
    "\n",
    "for ci in x_axis:\n",
    "    lsvc = LinearSVC(C = ci, max_iter = 100000)\n",
    "    lsvc.fit(train_vec, train2['target'])\n",
    "    pred_dev = lsvc.predict(dev_vec)\n",
    "    y_true = dev['target']\n",
    "    f1_list.append(f1_score(y_true, pred_dev))\n",
    "\n",
    "\n",
    "plt.title('different C and its corresponding F1 score')\n",
    "plt.xlabel('C values')\n",
    "plt.ylabel('F1 Score')\n",
    "plt.plot(x_axis, f1_list, color = 'blue')\n",
    "plt.show()\n",
    "print('Max C is ', max(f1_list), 'where C is around', x_axis[f1_list.index(max(f1_list))])\n",
    "\n"
   ]
  },
  {
   "cell_type": "markdown",
   "metadata": {},
   "source": [
    "<left><img width=43% src=\"img/i_3.png\"></left>\n",
    "- Max C is  0.8871308016877637 where C is around 2.138775510204082"
   ]
  },
  {
   "cell_type": "markdown",
   "metadata": {},
   "source": [
    "<b> 4. repeat(h): non-linear"
   ]
  },
  {
   "cell_type": "code",
   "execution_count": 84,
   "metadata": {},
   "outputs": [
    {
     "ename": "ValueError",
     "evalue": "X.shape[1] = 6576 should be equal to 44220, the number of features at training time",
     "output_type": "error",
     "traceback": [
      "\u001b[0;31m---------------------------------------------------------------------------\u001b[0m",
      "\u001b[0;31mValueError\u001b[0m                                Traceback (most recent call last)",
      "\u001b[0;32m<ipython-input-84-3808efa4d712>\u001b[0m in \u001b[0;36m<module>\u001b[0;34m\u001b[0m\n\u001b[1;32m      6\u001b[0m \u001b[0mnon_lsvc\u001b[0m\u001b[0;34m.\u001b[0m\u001b[0mfit\u001b[0m\u001b[0;34m(\u001b[0m\u001b[0mtrain_vec\u001b[0m\u001b[0;34m,\u001b[0m \u001b[0mtrain2\u001b[0m\u001b[0;34m[\u001b[0m\u001b[0;34m'target'\u001b[0m\u001b[0;34m]\u001b[0m\u001b[0;34m)\u001b[0m\u001b[0;34m\u001b[0m\u001b[0;34m\u001b[0m\u001b[0m\n\u001b[1;32m      7\u001b[0m \u001b[0;31m# non_lsvc.fit(train_vec, train2['target'])\u001b[0m\u001b[0;34m\u001b[0m\u001b[0;34m\u001b[0m\u001b[0;34m\u001b[0m\u001b[0m\n\u001b[0;32m----> 8\u001b[0;31m \u001b[0mpred_dev\u001b[0m \u001b[0;34m=\u001b[0m \u001b[0mnon_lsvc\u001b[0m\u001b[0;34m.\u001b[0m\u001b[0mpredict\u001b[0m\u001b[0;34m(\u001b[0m\u001b[0mdev_vec\u001b[0m\u001b[0;34m)\u001b[0m\u001b[0;34m\u001b[0m\u001b[0;34m\u001b[0m\u001b[0m\n\u001b[0m\u001b[1;32m      9\u001b[0m \u001b[0;34m\u001b[0m\u001b[0m\n\u001b[1;32m     10\u001b[0m \u001b[0;31m#F1 Score\u001b[0m\u001b[0;34m\u001b[0m\u001b[0;34m\u001b[0m\u001b[0;34m\u001b[0m\u001b[0m\n",
      "\u001b[0;32m~/opt/anaconda3/lib/python3.8/site-packages/sklearn/svm/_base.py\u001b[0m in \u001b[0;36mpredict\u001b[0;34m(self, X)\u001b[0m\n\u001b[1;32m    613\u001b[0m             \u001b[0my\u001b[0m \u001b[0;34m=\u001b[0m \u001b[0mnp\u001b[0m\u001b[0;34m.\u001b[0m\u001b[0margmax\u001b[0m\u001b[0;34m(\u001b[0m\u001b[0mself\u001b[0m\u001b[0;34m.\u001b[0m\u001b[0mdecision_function\u001b[0m\u001b[0;34m(\u001b[0m\u001b[0mX\u001b[0m\u001b[0;34m)\u001b[0m\u001b[0;34m,\u001b[0m \u001b[0maxis\u001b[0m\u001b[0;34m=\u001b[0m\u001b[0;36m1\u001b[0m\u001b[0;34m)\u001b[0m\u001b[0;34m\u001b[0m\u001b[0;34m\u001b[0m\u001b[0m\n\u001b[1;32m    614\u001b[0m         \u001b[0;32melse\u001b[0m\u001b[0;34m:\u001b[0m\u001b[0;34m\u001b[0m\u001b[0;34m\u001b[0m\u001b[0m\n\u001b[0;32m--> 615\u001b[0;31m             \u001b[0my\u001b[0m \u001b[0;34m=\u001b[0m \u001b[0msuper\u001b[0m\u001b[0;34m(\u001b[0m\u001b[0;34m)\u001b[0m\u001b[0;34m.\u001b[0m\u001b[0mpredict\u001b[0m\u001b[0;34m(\u001b[0m\u001b[0mX\u001b[0m\u001b[0;34m)\u001b[0m\u001b[0;34m\u001b[0m\u001b[0;34m\u001b[0m\u001b[0m\n\u001b[0m\u001b[1;32m    616\u001b[0m         \u001b[0;32mreturn\u001b[0m \u001b[0mself\u001b[0m\u001b[0;34m.\u001b[0m\u001b[0mclasses_\u001b[0m\u001b[0;34m.\u001b[0m\u001b[0mtake\u001b[0m\u001b[0;34m(\u001b[0m\u001b[0mnp\u001b[0m\u001b[0;34m.\u001b[0m\u001b[0masarray\u001b[0m\u001b[0;34m(\u001b[0m\u001b[0my\u001b[0m\u001b[0;34m,\u001b[0m \u001b[0mdtype\u001b[0m\u001b[0;34m=\u001b[0m\u001b[0mnp\u001b[0m\u001b[0;34m.\u001b[0m\u001b[0mintp\u001b[0m\u001b[0;34m)\u001b[0m\u001b[0;34m)\u001b[0m\u001b[0;34m\u001b[0m\u001b[0;34m\u001b[0m\u001b[0m\n\u001b[1;32m    617\u001b[0m \u001b[0;34m\u001b[0m\u001b[0m\n",
      "\u001b[0;32m~/opt/anaconda3/lib/python3.8/site-packages/sklearn/svm/_base.py\u001b[0m in \u001b[0;36mpredict\u001b[0;34m(self, X)\u001b[0m\n\u001b[1;32m    331\u001b[0m         \u001b[0my_pred\u001b[0m \u001b[0;34m:\u001b[0m \u001b[0mndarray\u001b[0m \u001b[0mof\u001b[0m \u001b[0mshape\u001b[0m \u001b[0;34m(\u001b[0m\u001b[0mn_samples\u001b[0m\u001b[0;34m,\u001b[0m\u001b[0;34m)\u001b[0m\u001b[0;34m\u001b[0m\u001b[0;34m\u001b[0m\u001b[0m\n\u001b[1;32m    332\u001b[0m         \"\"\"\n\u001b[0;32m--> 333\u001b[0;31m         \u001b[0mX\u001b[0m \u001b[0;34m=\u001b[0m \u001b[0mself\u001b[0m\u001b[0;34m.\u001b[0m\u001b[0m_validate_for_predict\u001b[0m\u001b[0;34m(\u001b[0m\u001b[0mX\u001b[0m\u001b[0;34m)\u001b[0m\u001b[0;34m\u001b[0m\u001b[0;34m\u001b[0m\u001b[0m\n\u001b[0m\u001b[1;32m    334\u001b[0m         \u001b[0mpredict\u001b[0m \u001b[0;34m=\u001b[0m \u001b[0mself\u001b[0m\u001b[0;34m.\u001b[0m\u001b[0m_sparse_predict\u001b[0m \u001b[0;32mif\u001b[0m \u001b[0mself\u001b[0m\u001b[0;34m.\u001b[0m\u001b[0m_sparse\u001b[0m \u001b[0;32melse\u001b[0m \u001b[0mself\u001b[0m\u001b[0;34m.\u001b[0m\u001b[0m_dense_predict\u001b[0m\u001b[0;34m\u001b[0m\u001b[0;34m\u001b[0m\u001b[0m\n\u001b[1;32m    335\u001b[0m         \u001b[0;32mreturn\u001b[0m \u001b[0mpredict\u001b[0m\u001b[0;34m(\u001b[0m\u001b[0mX\u001b[0m\u001b[0;34m)\u001b[0m\u001b[0;34m\u001b[0m\u001b[0;34m\u001b[0m\u001b[0m\n",
      "\u001b[0;32m~/opt/anaconda3/lib/python3.8/site-packages/sklearn/svm/_base.py\u001b[0m in \u001b[0;36m_validate_for_predict\u001b[0;34m(self, X)\u001b[0m\n\u001b[1;32m    482\u001b[0m                                  (X.shape[1], self.shape_fit_[0]))\n\u001b[1;32m    483\u001b[0m         \u001b[0;32melif\u001b[0m \u001b[0;32mnot\u001b[0m \u001b[0mcallable\u001b[0m\u001b[0;34m(\u001b[0m\u001b[0mself\u001b[0m\u001b[0;34m.\u001b[0m\u001b[0mkernel\u001b[0m\u001b[0;34m)\u001b[0m \u001b[0;32mand\u001b[0m \u001b[0mX\u001b[0m\u001b[0;34m.\u001b[0m\u001b[0mshape\u001b[0m\u001b[0;34m[\u001b[0m\u001b[0;36m1\u001b[0m\u001b[0;34m]\u001b[0m \u001b[0;34m!=\u001b[0m \u001b[0mself\u001b[0m\u001b[0;34m.\u001b[0m\u001b[0mshape_fit_\u001b[0m\u001b[0;34m[\u001b[0m\u001b[0;36m1\u001b[0m\u001b[0;34m]\u001b[0m\u001b[0;34m:\u001b[0m\u001b[0;34m\u001b[0m\u001b[0;34m\u001b[0m\u001b[0m\n\u001b[0;32m--> 484\u001b[0;31m             raise ValueError(\"X.shape[1] = %d should be equal to %d, \"\n\u001b[0m\u001b[1;32m    485\u001b[0m                              \u001b[0;34m\"the number of features at training time\"\u001b[0m \u001b[0;34m%\u001b[0m\u001b[0;34m\u001b[0m\u001b[0;34m\u001b[0m\u001b[0m\n\u001b[1;32m    486\u001b[0m                              (X.shape[1], self.shape_fit_[1]))\n",
      "\u001b[0;31mValueError\u001b[0m: X.shape[1] = 6576 should be equal to 44220, the number of features at training time"
     ]
    }
   ],
   "source": [
    "from sklearn import svm\n",
    "from sklearn.metrics import f1_score\n",
    "\n",
    "# non_lsvc = svm.SVC()\n",
    "non_lsvc = svm.SVC(kernel='rbf', gamma=0.1)\n",
    "non_lsvc.fit(train_vec, train2['target'])\n",
    "# non_lsvc.fit(train_vec, train2['target'])\n",
    "pred_dev = non_lsvc.predict(dev_vec)\n",
    "\n",
    "#F1 Score\n",
    "y_true = dev['target']\n",
    "f1_score_nl = f1_score(y_true, pred_dev)\n",
    "print('The F1 score is: ',f1_score_nl)"
   ]
  },
  {
   "cell_type": "markdown",
   "metadata": {},
   "source": [
    "<b>----------------------------------------------------------------------------------------------------------------"
   ]
  },
  {
   "cell_type": "markdown",
   "metadata": {},
   "source": [
    "## 1-J Incorporating the additional columns."
   ]
  },
  {
   "cell_type": "code",
   "execution_count": 12,
   "metadata": {},
   "outputs": [],
   "source": [
    "#1-J\n",
    "# utility func:\n",
    "def preprocess(dataset_list, column_list):\n",
    "    import nltk\n",
    "    from nltk.stem import WordNetLemmatizer\n",
    "    from nltk.corpus import wordnet\n",
    "    nltk.download('punkt')\n",
    "    nltk.download('averaged_perceptron_tagger')\n",
    "    nltk.download('wordnet')\n",
    "    lemmatizer = WordNetLemmatizer()\n",
    "    for dataset in dataset_list:\n",
    "        for col_name in column_list:\n",
    "            for i in range(0, len(dataset[col_name])):\n",
    "                word = dataset[col_name][i]\n",
    "                if (type(word) is str):\n",
    "                    # clean URL: \n",
    "                    #remove all the urls, since they cannot be put into the bag of words and cannot be processed as text\n",
    "                    dataset.at[i, col_name] = re.sub(r\"http\\S+\", \"\", dataset[col_name][i])\n",
    "                    # replace %20 to spaces\n",
    "                    if ('%20' in word):\n",
    "                        dataset.at[i, col_name] = word.replace('%20', ' ')\n",
    "                    # lowercase\n",
    "                    dataset[col_name] = dataset[col_name].str.lower()\n",
    "                    #remove puncatuation\n",
    "                    dataset.at[i, col_name] = re.sub('[^a-zA-Z]', \" \", dataset[col_name][i])\n",
    "                    \n",
    "                    #lemmatize, to lemmatize accurately, we must specify the pos_tag of each word so that we will not confuse.\n",
    "                    # The reason for lemmatizing is that we want to remove inflectional endings only and to return the base or\n",
    "                    #dictionary form of the word\n",
    "                    sentence = dataset[col_name][i]\n",
    "                    word_list = nltk.word_tokenize(sentence)\n",
    "                    lemmatized_output = ' '.join([lemmatizer.lemmatize(w, get_wordnet_pos(w)) for w in word_list])\n",
    "                    dataset.at[i, col_name] = lemmatized_output\n",
    "                else: # word is not a string\n",
    "                    dataset.at[i, col_name] = ''\n",
    "\n",
    "# return list of vector from data set\n",
    "def txt_vectorization (dataset_list, column_list, M=1):\n",
    "    dataset_vec_list = []\n",
    "    for dataset in dataset_list:\n",
    "        for col_name in column_list:\n",
    "            tweet_list_dataset = dataset[col_name].tolist()\n",
    "            count_vect = CountVectorizer(binary=True, min_df = M, vocabulary=train_vocab)\n",
    "            dataset_bag = count_vect.fit_transform(tweet_list_dataset)\n",
    "            dataset_vec = dataset_bag.toarray()\n",
    "            dataset_vec_list.append(dataset_vec)\n",
    "    return(dataset_vec_list)"
   ]
  },
  {
   "cell_type": "code",
   "execution_count": 152,
   "metadata": {},
   "outputs": [
    {
     "name": "stderr",
     "output_type": "stream",
     "text": [
      "[nltk_data] Downloading package punkt to /Users/panda/nltk_data...\n",
      "[nltk_data]   Package punkt is already up-to-date!\n",
      "[nltk_data] Downloading package averaged_perceptron_tagger to\n",
      "[nltk_data]     /Users/panda/nltk_data...\n",
      "[nltk_data]   Package averaged_perceptron_tagger is already up-to-\n",
      "[nltk_data]       date!\n",
      "[nltk_data] Downloading package wordnet to /Users/panda/nltk_data...\n",
      "[nltk_data]   Package wordnet is already up-to-date!\n"
     ]
    },
    {
     "name": "stdout",
     "output_type": "stream",
     "text": [
      "before:  (5329, 11149)\n",
      "after:  (8592, 11149)\n"
     ]
    }
   ],
   "source": [
    "dataset_list = [train2, dev, test]\n",
    "column_list = ['keyword', 'location']\n",
    "\n",
    "preprocess(dataset_list, column_list)\n",
    "dataset_vec_list = txt_vectorization(dataset_list, column_list, 1)"
   ]
  },
  {
   "cell_type": "code",
   "execution_count": 182,
   "metadata": {},
   "outputs": [],
   "source": [
    "#adjust the length of bag-of-words dev vector according to the length of train_vec\n",
    "M = 1\n",
    "count_vect = CountVectorizer(binary=True,min_df = M, vocabulary=train_vocab)\n",
    "dev_bag = count_vect.fit_transform(tweet_list_dev)\n",
    "dev_vec = dev_bag.toarray()\n",
    "\n",
    "train_vec_1J = np.copy(train_vec)\n",
    "train_target_1J = np.copy(train2['target'])\n",
    "\n",
    "dev_vec_1J = dev_vec\n",
    "dev_target_1J = np.copy(dev['target'])\n",
    "\n",
    "# append the feature vec to our main \"text\" vec\n",
    "\n",
    "for vec in dataset_vec_list:\n",
    "    if (vec.shape[0] == train2['target'].shape[0]):\n",
    "        train_vec_1J = np.append(train_vec_1J, vec,axis=0)\n",
    "    if (vec.shape[0] == dev['target'].shape[0]):\n",
    "        dev_vec_1J = np.append(dev_vec_1J, vec,axis=0)\n",
    "\n",
    "# since more feature appended to the bag,\n",
    "# there should be more target value now\n",
    "# so the target column should have len(column_list) times more\n",
    "for i in range(0, len(column_list)): \n",
    "    train_target_1J = np.append(train_target_1J, train2['target'],axis=0)\n",
    "    dev_target_1J = np.append(dev_target_1J, dev['target'],axis=0)"
   ]
  },
  {
   "cell_type": "markdown",
   "metadata": {},
   "source": [
    "<b>J_1. repeat(e): Naive Bayes"
   ]
  },
  {
   "cell_type": "code",
   "execution_count": 183,
   "metadata": {},
   "outputs": [
    {
     "name": "stdout",
     "output_type": "stream",
     "text": [
      "f1_score of NB model is  0.8848484848484848\n"
     ]
    }
   ],
   "source": [
    "from sklearn.metrics import f1_score\n",
    "\n",
    "# NB model: \n",
    "y_pred, logpyx = nb_predictions(dev_vec, train_vec_1J, train_target_1J)\n",
    "y_true = dev['target']\n",
    "f1_score = f1_score(y_true, y_pred)\n",
    "print(\"f1_score of NB model is \", f1_score) "
   ]
  },
  {
   "cell_type": "markdown",
   "metadata": {},
   "source": [
    "<b>J_2. repeat(f): Logistic regression"
   ]
  },
  {
   "cell_type": "code",
   "execution_count": 184,
   "metadata": {},
   "outputs": [
    {
     "name": "stdout",
     "output_type": "stream",
     "text": [
      "The F1 score is:  0.8942408376963351\n",
      "weight vector of the train model is: [-0.03932014 -0.05604755  0.0811659  ... -0.14919338  0.25908994\n",
      " -0.08815393]\n"
     ]
    }
   ],
   "source": [
    "# logistic regression model\n",
    "from sklearn.linear_model import LogisticRegression\n",
    "from sklearn.metrics import f1_score\n",
    "\n",
    "#create logistic regression object\n",
    "logreg = LogisticRegression()\n",
    "logreg.fit(train_vec, train2['target'])\n",
    "y_pred = logreg.predict(dev_vec)\n",
    "#F1 Score\n",
    "y_true = dev['target']\n",
    "f1_score = f1_score(y_true, y_pred)\n",
    "print('The F1 score is: ',f1_score) \n",
    "print(\"weight vector of the train model is:\",logreg.coef_[0])"
   ]
  },
  {
   "cell_type": "markdown",
   "metadata": {},
   "source": [
    "<b>J_3. repeat(g): Linear SVM"
   ]
  },
  {
   "cell_type": "code",
   "execution_count": 186,
   "metadata": {},
   "outputs": [
    {
     "name": "stdout",
     "output_type": "stream",
     "text": [
      "[0.7959527824620573, 0.8933263268523384, 0.9109518935516888, 0.9113149847094801, 0.9047376464595007]\n",
      "The biggest F1 score happens at C equals to 10\n"
     ]
    }
   ],
   "source": [
    "# 1-G\n",
    "# Linear SVM prediction\n",
    "\n",
    "from sklearn.svm import LinearSVC\n",
    "from sklearn.metrics import f1_score\n",
    "\n",
    "f1_list = []\n",
    "ci_list = [0.01, 0.1, 1, 10, 100]\n",
    "\n",
    "for ci in ci_list:\n",
    "    lsvc = LinearSVC(C = ci, max_iter = 100000)\n",
    "    lsvc.fit(train_vec, train2['target'])\n",
    "    pred_dev = lsvc.predict(dev_vec)\n",
    "    y_true = dev['target']\n",
    "    f1_list.append(f1_score(y_true, pred_dev))\n",
    "    \n",
    "print(f1_list)\n",
    "\n",
    "for i in range(len(f1_list)):\n",
    "    if(f1_list[i] == max(f1_list)):\n",
    "        print(\"The biggest F1 score happens at C equals to\", ci_list[i])"
   ]
  },
  {
   "cell_type": "code",
   "execution_count": 187,
   "metadata": {},
   "outputs": [
    {
     "data": {
      "image/png": "[encoded data removed]",
      "text/plain": [
       "<Figure size 432x288 with 1 Axes>"
      ]
     },
     "metadata": {
      "needs_background": "light"
     },
     "output_type": "display_data"
    },
    {
     "name": "stdout",
     "output_type": "stream",
     "text": [
      "Max C is  0.9116896375701888 where C is around 6.216326530612245\n"
     ]
    }
   ],
   "source": [
    "\n",
    "#Now， Let's draw the plot\n",
    "import matplotlib.pyplot as plt\n",
    "import numpy as np\n",
    "\n",
    "f1_list = []\n",
    "x_axis = np.linspace(0.1,100,50)\n",
    "\n",
    "for ci in x_axis:\n",
    "    lsvc = LinearSVC(C = ci, max_iter = 100000)\n",
    "    lsvc.fit(train_vec, train2['target'])\n",
    "    pred_dev = lsvc.predict(dev_vec)\n",
    "    y_true = dev['target']\n",
    "    f1_list.append(f1_score(y_true, pred_dev))\n",
    "\n",
    "\n",
    "plt.title('different C and its corresponding F1 score')\n",
    "plt.xlabel('C values')\n",
    "plt.ylabel('F1 Score')\n",
    "plt.plot(x_axis, f1_list, color = 'blue')\n",
    "plt.show()\n",
    "print('Max C is ', max(f1_list), 'where C is around', x_axis[f1_list.index(max(f1_list))])"
   ]
  },
  {
   "cell_type": "markdown",
   "metadata": {},
   "source": [
    "<left><img width=43% src=\"img/j_2.png\"></left>\n",
    "- Max C is  0.9116896375701888 where C is around 6.216326530612245"
   ]
  },
  {
   "cell_type": "markdown",
   "metadata": {},
   "source": [
    "<b> 3. repeat(h): Non-Linear SVM"
   ]
  },
  {
   "cell_type": "code",
   "execution_count": 188,
   "metadata": {},
   "outputs": [
    {
     "name": "stdout",
     "output_type": "stream",
     "text": [
      "The F1 score is:  0.8369942196531792\n",
      "[0.6872246696035242, 0.8811563169164881, 0.845183486238532, 0.8369942196531792, 0.8369942196531792]\n"
     ]
    }
   ],
   "source": [
    "from sklearn import svm\n",
    "from sklearn.metrics import f1_score\n",
    "\n",
    "C_list = [0.01, 0.1, 1.0, 10.0, 100.0]\n",
    "\n",
    "# non_lsvc = svm.SVC()\n",
    "non_lsvc = svm.SVC(kernel='rbf', gamma=10)\n",
    "non_lsvc.fit(train_vec, train2['target'])\n",
    "# non_lsvc.fit(train_vec, train2['target'])\n",
    "pred_dev = non_lsvc.predict(dev_vec)\n",
    "\n",
    "#F1 Score\n",
    "y_true = dev['target']\n",
    "f1_score_nl = f1_score(y_true, pred_dev)\n",
    "print('The F1 score is: ',f1_score_nl)\n",
    "\n",
    "\n",
    "f1_list = []\n",
    "for ci in C_list:\n",
    "    non_lsvc = svm.SVC(kernel='rbf', gamma=ci)\n",
    "    non_lsvc.fit(train_vec, train2['target'])\n",
    "#     non_lsvc.fit(train_vec, train2['target'])\n",
    "    pred_dev = non_lsvc.predict(dev_vec)\n",
    "    f1_score_nl = f1_score(y_true, pred_dev)\n",
    "    f1_list.append(f1_score_nl)\n",
    "print(f1_list)"
   ]
  },
  {
   "cell_type": "markdown",
   "metadata": {},
   "source": [
    "- The Max F1 score is:  0.8811563169164881"
   ]
  },
  {
   "cell_type": "code",
   "execution_count": 189,
   "metadata": {},
   "outputs": [
    {
     "name": "stdout",
     "output_type": "stream",
     "text": [
      "[LibSVM][LibSVM][LibSVM][LibSVM][LibSVM][LibSVM][LibSVM][LibSVM][LibSVM][LibSVM]"
     ]
    },
    {
     "data": {
      "image/png": "[encoded data removed]",
      "text/plain": [
       "<Figure size 432x288 with 1 Axes>"
      ]
     },
     "metadata": {
      "needs_background": "light"
     },
     "output_type": "display_data"
    }
   ],
   "source": [
    "#Now， Let's draw the plot\n",
    "import matplotlib.pyplot as plt\n",
    "import numpy as np\n",
    "\n",
    "f1_list = []\n",
    "x_axis = np.linspace(0.001,10,10)\n",
    "\n",
    "for ci in x_axis:\n",
    "    non_lsvc = svm.SVC(kernel='rbf', gamma=ci, verbose = True)\n",
    "    non_lsvc.fit(train_vec, train2['target'])\n",
    "    pred_dev = non_lsvc.predict(dev_vec)\n",
    "    y_true = dev['target']\n",
    "    f1_list.append(f1_score(y_true, pred_dev))\n",
    "\n",
    "\n",
    "plt.title('different C and its corresponding F1 score')\n",
    "plt.xlabel('C values')\n",
    "plt.ylabel('F1 Score')\n",
    "plt.plot(x_axis, f1_list, color = 'blue')\n",
    "plt.show()"
   ]
  },
  {
   "cell_type": "code",
   "execution_count": null,
   "metadata": {},
   "outputs": [],
   "source": [
    "print('Max C is ', max(f1_list), 'where C is around', x_axis[f1_list.index(max(f1_list))])"
   ]
  },
  {
   "cell_type": "code",
   "execution_count": 39,
   "metadata": {},
   "outputs": [
    {
     "name": "stderr",
     "output_type": "stream",
     "text": [
      "[nltk_data] Downloading package punkt to /Users/panda/nltk_data...\n",
      "[nltk_data]   Package punkt is already up-to-date!\n",
      "[nltk_data] Downloading package averaged_perceptron_tagger to\n",
      "[nltk_data]     /Users/panda/nltk_data...\n",
      "[nltk_data]   Package averaged_perceptron_tagger is already up-to-\n",
      "[nltk_data]       date!\n",
      "[nltk_data] Downloading package wordnet to /Users/panda/nltk_data...\n",
      "[nltk_data]   Package wordnet is already up-to-date!\n"
     ]
    }
   ],
   "source": [
    "#preprocess data in train1 (entiring training dataset)\n",
    "\n",
    "dataset_list = [train1, test]\n",
    "column_list = ['text', 'keyword', 'location']\n",
    "preprocess(dataset_list, column_list)\n",
    "dataset_vec_list = txt_vectorization(dataset_list, column_list, 1)\n"
   ]
  },
  {
   "cell_type": "code",
   "execution_count": 75,
   "metadata": {},
   "outputs": [
    {
     "name": "stdout",
     "output_type": "stream",
     "text": [
      "(7613, 44220)\n",
      "times1\n",
      "times\n",
      "times\n",
      "times\n",
      "times\n",
      "times\n",
      "(22839, 44220) (22839,)\n"
     ]
    }
   ],
   "source": [
    "#adjust the length of bag-of-words dev vector according to the length of train_vec\n",
    "tweet_list_test = test['text'].tolist()\n",
    "M = 1\n",
    "count_vect = CountVectorizer(binary=True,min_df = M, vocabulary=train_vocab)\n",
    "test_bag = count_vect.fit_transform(tweet_list_test)\n",
    "test_vocab = count_vect.vocabulary_\n",
    "test_vec = test_bag.toarray()\n",
    "\n",
    "print(dataset_vec_list[0].shape)\n",
    "train1_vec_1K = []\n",
    "train1_target_1K = []\n",
    "\n",
    "test_vec_1K = test_vec\n",
    "\n",
    "# append the feature vec to our main \"text\" vec\n",
    "\n",
    "for vec in dataset_vec_list:\n",
    "    if len(train1_vec_1K)<1:\n",
    "        print(\"times1\")\n",
    "        train1_vec_1K = vec\n",
    "    elif (vec.shape[0] == train1['target'].shape[0]):\n",
    "        print(\"times\")\n",
    "        train1_vec_1K = np.append(train1_vec_1K, vec,axis=0)\n",
    "\n",
    "# since more feature appended to the bag,\n",
    "# there should be more target value now\n",
    "# so the target column should have len(column_list) times more\n",
    "for i in range(0, len(column_list)): \n",
    "    print(\"times\")\n",
    "    train1_target_1K = np.append(train1_target_1K, train1['target'],axis=0)\n",
    "print(train1_vec_1K.shape, train1_target_1K.shape)\n"
   ]
  },
  {
   "cell_type": "code",
   "execution_count": 202,
   "metadata": {},
   "outputs": [],
   "source": [
    "# #adjust the length of bag-of-words test vector \n",
    "# M = 1\n",
    "# count_vect = CountVectorizer(binary=True,min_df = M, vocabulary=train_vocab)\n",
    "# test_bag = count_vect.fit_transform(tweet_list_test)\n",
    "# test_vocab = count_vect.vocabulary_\n",
    "# test_vec = test_bag.toarray()"
   ]
  },
  {
   "cell_type": "code",
   "execution_count": 77,
   "metadata": {},
   "outputs": [
    {
     "name": "stdout",
     "output_type": "stream",
     "text": [
      "(15226, 44220) (22839,)\n"
     ]
    }
   ],
   "source": [
    "#predict by logistic regression\n",
    "from sklearn.linear_model import LogisticRegression\n",
    "from sklearn.metrics import f1_score\n",
    "logreg = LogisticRegression()\n",
    "print(train_vec_1K.shape, train1_target_1K.shape)\n",
    "logreg.fit(train1_vec_1K, train1_target_1K)\n",
    "lrg_pred = logreg.predict(test_vec)"
   ]
  },
  {
   "cell_type": "code",
   "execution_count": 90,
   "metadata": {},
   "outputs": [],
   "source": [
    "#predict by using linearSVC\n",
    "from sklearn.svm import LinearSVC\n",
    "lsvc = LinearSVC(C = 6.2, max_iter = 100000)\n",
    "lsvc.fit(train1_vec_1K, train1_target_1K)\n",
    "pred_lin = lsvc.predict(test_vec)"
   ]
  },
  {
   "cell_type": "code",
   "execution_count": 82,
   "metadata": {},
   "outputs": [],
   "source": [
    "#predict by NB\n",
    "pred_NB, logpyx = nb_predictions(test_vec, train1_vec_1K, train1_target_1K)"
   ]
  },
  {
   "cell_type": "code",
   "execution_count": 93,
   "metadata": {},
   "outputs": [],
   "source": [
    "#make submission\n",
    "\n",
    "final_output = pred_lin.astype(int)\n",
    "sub = pd.DataFrame({'id':test['id'].values.tolist(), 'target':final_output})\n",
    "sub.to_csv('submission.csv', index = False)"
   ]
  },
  {
   "cell_type": "code",
   "execution_count": null,
   "metadata": {},
   "outputs": [],
   "source": []
  }
 ],
 "metadata": {
  "kernelspec": {
   "display_name": "Python 3",
   "language": "python",
   "name": "python3"
  },
  "language_info": {
   "codemirror_mode": {
    "name": "ipython",
    "version": 3
   },
   "file_extension": ".py",
   "mimetype": "text/x-python",
   "name": "python",
   "nbconvert_exporter": "python",
   "pygments_lexer": "ipython3",
   "version": "3.8.3"
  }
 },
 "nbformat": 4,
 "nbformat_minor": 4
}
